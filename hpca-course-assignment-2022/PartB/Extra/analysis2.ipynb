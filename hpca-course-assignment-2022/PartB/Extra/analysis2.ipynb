{
 "cells": [
  {
   "cell_type": "code",
   "execution_count": 108,
   "id": "43fd15eb",
   "metadata": {},
   "outputs": [],
   "source": [
    "import pandas as pd\n",
    "import numpy as np\n",
    "import matplotlib.pyplot as plt\n",
    "import seaborn as sns\n",
    "ip_dir = \"nvprof_results_--csv\""
   ]
  },
  {
   "cell_type": "code",
   "execution_count": 83,
   "id": "a74ea24a",
   "metadata": {},
   "outputs": [
    {
     "data": {
      "text/html": [
       "<div>\n",
       "<style scoped>\n",
       "    .dataframe tbody tr th:only-of-type {\n",
       "        vertical-align: middle;\n",
       "    }\n",
       "\n",
       "    .dataframe tbody tr th {\n",
       "        vertical-align: top;\n",
       "    }\n",
       "\n",
       "    .dataframe thead th {\n",
       "        text-align: right;\n",
       "    }\n",
       "</style>\n",
       "<table border=\"1\" class=\"dataframe\">\n",
       "  <thead>\n",
       "    <tr style=\"text-align: right;\">\n",
       "      <th></th>\n",
       "      <th>Start</th>\n",
       "      <th>Duration</th>\n",
       "      <th>Grid X</th>\n",
       "      <th>Grid Y</th>\n",
       "      <th>Grid Z</th>\n",
       "      <th>Block X</th>\n",
       "      <th>Block Y</th>\n",
       "      <th>Block Z</th>\n",
       "      <th>Registers Per Thread</th>\n",
       "      <th>Static SMem</th>\n",
       "      <th>Dynamic SMem</th>\n",
       "      <th>Size</th>\n",
       "      <th>Throughput</th>\n",
       "      <th>SrcMemType</th>\n",
       "      <th>DstMemType</th>\n",
       "      <th>Device</th>\n",
       "      <th>Context</th>\n",
       "      <th>Stream</th>\n",
       "      <th>Name</th>\n",
       "      <th>Correlation_ID</th>\n",
       "    </tr>\n",
       "  </thead>\n",
       "  <tbody>\n",
       "    <tr>\n",
       "      <th>0</th>\n",
       "      <td>ms</td>\n",
       "      <td>us</td>\n",
       "      <td>NaN</td>\n",
       "      <td>NaN</td>\n",
       "      <td>NaN</td>\n",
       "      <td>NaN</td>\n",
       "      <td>NaN</td>\n",
       "      <td>NaN</td>\n",
       "      <td>NaN</td>\n",
       "      <td>B</td>\n",
       "      <td>B</td>\n",
       "      <td>KB</td>\n",
       "      <td>GB/s</td>\n",
       "      <td>NaN</td>\n",
       "      <td>NaN</td>\n",
       "      <td>NaN</td>\n",
       "      <td>NaN</td>\n",
       "      <td>NaN</td>\n",
       "      <td>NaN</td>\n",
       "      <td>NaN</td>\n",
       "    </tr>\n",
       "    <tr>\n",
       "      <th>1</th>\n",
       "      <td>277.938684</td>\n",
       "      <td>6.656000</td>\n",
       "      <td>NaN</td>\n",
       "      <td>NaN</td>\n",
       "      <td>NaN</td>\n",
       "      <td>NaN</td>\n",
       "      <td>NaN</td>\n",
       "      <td>NaN</td>\n",
       "      <td>NaN</td>\n",
       "      <td>NaN</td>\n",
       "      <td>NaN</td>\n",
       "      <td>64.000000</td>\n",
       "      <td>9.169945</td>\n",
       "      <td>Pageable</td>\n",
       "      <td>Device</td>\n",
       "      <td>NVIDIA GeForce GTX 1050 (0)</td>\n",
       "      <td>1.0</td>\n",
       "      <td>7.0</td>\n",
       "      <td>[CUDA memcpy HtoD]</td>\n",
       "      <td>111.0</td>\n",
       "    </tr>\n",
       "    <tr>\n",
       "      <th>2</th>\n",
       "      <td>277.960829</td>\n",
       "      <td>6.656000</td>\n",
       "      <td>NaN</td>\n",
       "      <td>NaN</td>\n",
       "      <td>NaN</td>\n",
       "      <td>NaN</td>\n",
       "      <td>NaN</td>\n",
       "      <td>NaN</td>\n",
       "      <td>NaN</td>\n",
       "      <td>NaN</td>\n",
       "      <td>NaN</td>\n",
       "      <td>64.000000</td>\n",
       "      <td>9.169945</td>\n",
       "      <td>Pageable</td>\n",
       "      <td>Device</td>\n",
       "      <td>NVIDIA GeForce GTX 1050 (0)</td>\n",
       "      <td>1.0</td>\n",
       "      <td>7.0</td>\n",
       "      <td>[CUDA memcpy HtoD]</td>\n",
       "      <td>112.0</td>\n",
       "    </tr>\n",
       "    <tr>\n",
       "      <th>3</th>\n",
       "      <td>277.974910</td>\n",
       "      <td>2.080000</td>\n",
       "      <td>NaN</td>\n",
       "      <td>NaN</td>\n",
       "      <td>NaN</td>\n",
       "      <td>NaN</td>\n",
       "      <td>NaN</td>\n",
       "      <td>NaN</td>\n",
       "      <td>NaN</td>\n",
       "      <td>NaN</td>\n",
       "      <td>NaN</td>\n",
       "      <td>16.000000</td>\n",
       "      <td>7.335956</td>\n",
       "      <td>Pageable</td>\n",
       "      <td>Device</td>\n",
       "      <td>NVIDIA GeForce GTX 1050 (0)</td>\n",
       "      <td>1.0</td>\n",
       "      <td>7.0</td>\n",
       "      <td>[CUDA memcpy HtoD]</td>\n",
       "      <td>113.0</td>\n",
       "    </tr>\n",
       "    <tr>\n",
       "      <th>4</th>\n",
       "      <td>277.991934</td>\n",
       "      <td>120.582000</td>\n",
       "      <td>4.0</td>\n",
       "      <td>1.0</td>\n",
       "      <td>1.0</td>\n",
       "      <td>1024.0</td>\n",
       "      <td>1.0</td>\n",
       "      <td>1.0</td>\n",
       "      <td>26.0</td>\n",
       "      <td>0</td>\n",
       "      <td>0</td>\n",
       "      <td>NaN</td>\n",
       "      <td>NaN</td>\n",
       "      <td>NaN</td>\n",
       "      <td>NaN</td>\n",
       "      <td>NVIDIA GeForce GTX 1050 (0)</td>\n",
       "      <td>1.0</td>\n",
       "      <td>7.0</td>\n",
       "      <td>mat_mul_naive_4p_multiplications(int, int*, in...</td>\n",
       "      <td>114.0</td>\n",
       "    </tr>\n",
       "    <tr>\n",
       "      <th>5</th>\n",
       "      <td>278.112868</td>\n",
       "      <td>1.728000</td>\n",
       "      <td>NaN</td>\n",
       "      <td>NaN</td>\n",
       "      <td>NaN</td>\n",
       "      <td>NaN</td>\n",
       "      <td>NaN</td>\n",
       "      <td>NaN</td>\n",
       "      <td>NaN</td>\n",
       "      <td>NaN</td>\n",
       "      <td>NaN</td>\n",
       "      <td>16.000000</td>\n",
       "      <td>8.830318</td>\n",
       "      <td>Device</td>\n",
       "      <td>Pageable</td>\n",
       "      <td>NVIDIA GeForce GTX 1050 (0)</td>\n",
       "      <td>1.0</td>\n",
       "      <td>7.0</td>\n",
       "      <td>[CUDA memcpy DtoH]</td>\n",
       "      <td>115.0</td>\n",
       "    </tr>\n",
       "  </tbody>\n",
       "</table>\n",
       "</div>"
      ],
      "text/plain": [
       "        Start    Duration  Grid X  Grid Y  Grid Z  Block X  Block Y  Block Z  \\\n",
       "0          ms          us     NaN     NaN     NaN      NaN      NaN      NaN   \n",
       "1  277.938684    6.656000     NaN     NaN     NaN      NaN      NaN      NaN   \n",
       "2  277.960829    6.656000     NaN     NaN     NaN      NaN      NaN      NaN   \n",
       "3  277.974910    2.080000     NaN     NaN     NaN      NaN      NaN      NaN   \n",
       "4  277.991934  120.582000     4.0     1.0     1.0   1024.0      1.0      1.0   \n",
       "5  278.112868    1.728000     NaN     NaN     NaN      NaN      NaN      NaN   \n",
       "\n",
       "   Registers Per Thread Static SMem Dynamic SMem       Size Throughput  \\\n",
       "0                   NaN           B            B         KB       GB/s   \n",
       "1                   NaN         NaN          NaN  64.000000   9.169945   \n",
       "2                   NaN         NaN          NaN  64.000000   9.169945   \n",
       "3                   NaN         NaN          NaN  16.000000   7.335956   \n",
       "4                  26.0           0            0        NaN        NaN   \n",
       "5                   NaN         NaN          NaN  16.000000   8.830318   \n",
       "\n",
       "  SrcMemType DstMemType                       Device  Context  Stream  \\\n",
       "0        NaN        NaN                          NaN      NaN     NaN   \n",
       "1   Pageable     Device  NVIDIA GeForce GTX 1050 (0)      1.0     7.0   \n",
       "2   Pageable     Device  NVIDIA GeForce GTX 1050 (0)      1.0     7.0   \n",
       "3   Pageable     Device  NVIDIA GeForce GTX 1050 (0)      1.0     7.0   \n",
       "4        NaN        NaN  NVIDIA GeForce GTX 1050 (0)      1.0     7.0   \n",
       "5     Device   Pageable  NVIDIA GeForce GTX 1050 (0)      1.0     7.0   \n",
       "\n",
       "                                                Name  Correlation_ID  \n",
       "0                                                NaN             NaN  \n",
       "1                                 [CUDA memcpy HtoD]           111.0  \n",
       "2                                 [CUDA memcpy HtoD]           112.0  \n",
       "3                                 [CUDA memcpy HtoD]           113.0  \n",
       "4  mat_mul_naive_4p_multiplications(int, int*, in...           114.0  \n",
       "5                                 [CUDA memcpy DtoH]           115.0  "
      ]
     },
     "execution_count": 83,
     "metadata": {},
     "output_type": "execute_result"
    }
   ],
   "source": [
    "df = pd.read_csv(f\"{ip_dir}/gpu_runtime_128_naive_4p\", skiprows=3)\n",
    "df"
   ]
  },
  {
   "cell_type": "code",
   "execution_count": 84,
   "id": "5a67ac39",
   "metadata": {},
   "outputs": [],
   "source": [
    "mats_cache = [512, 1024, 2048, 4096]\n",
    "mats_runtime = [128, 256, 512, 1024, 2048, 4096, 8192, 16384]\n",
    "tiles = [8, 16, 32]\n",
    "kernel = \"naive\"\n",
    "columns = [\"Duration\"]"
   ]
  },
  {
   "cell_type": "code",
   "execution_count": 85,
   "id": "70dc692e",
   "metadata": {},
   "outputs": [
    {
     "data": {
      "text/plain": [
       "[[128, 44.802],\n",
       " [256, 301.741],\n",
       " [512, 2.012281],\n",
       " [1024, 15.885015],\n",
       " [2048, 145.726492],\n",
       " [4096, 1.384866],\n",
       " [8192, 12.082516],\n",
       " [16384, 89.051022]]"
      ]
     },
     "execution_count": 85,
     "metadata": {},
     "output_type": "execute_result"
    }
   ],
   "source": [
    "kernel_name = \"mat_mul_naive(int, int*, int*, int*)\"\n",
    "tile = \"p\"\n",
    "data_p = []\n",
    "for mat in mats_runtime:\n",
    "    df = pd.read_csv(f\"{ip_dir}/gpu_runtime_{mat}_{kernel}_{tile}\", skiprows=3)\n",
    "    duration = float(df[df[\"Name\"] == kernel_name][columns].values[0][0])\n",
    "    data_p.append([mat, duration])\n",
    "data_p"
   ]
  },
  {
   "cell_type": "code",
   "execution_count": 42,
   "id": "2d1f7d65",
   "metadata": {},
   "outputs": [
    {
     "data": {
      "text/plain": [
       "[[128, 120.582],\n",
       " [256, 775.713],\n",
       " [512, 5.285892],\n",
       " [1024, 42.20842],\n",
       " [2048, 365.552017],\n",
       " [4096, 2.945687],\n",
       " [8192, 24.940062],\n",
       " [16384, 193.030232]]"
      ]
     },
     "execution_count": 42,
     "metadata": {},
     "output_type": "execute_result"
    }
   ],
   "source": [
    "kernel_name = \"mat_mul_naive_4p_multiplications(int, int*, int*, int*)\"\n",
    "tile = \"4p\"\n",
    "data_4p = []\n",
    "for mat in mats_runtime:\n",
    "    df = pd.read_csv(f\"{ip_dir}/gpu_runtime_{mat}_{kernel}_{tile}\", skiprows=3)\n",
    "    duration = float(df[df[\"Name\"] == kernel_name][columns].values[0][0])\n",
    "    data_4p.append([mat, duration])\n",
    "data_4p\n"
   ]
  },
  {
   "cell_type": "code",
   "execution_count": 45,
   "id": "8a87089e",
   "metadata": {},
   "outputs": [
    {
     "data": {
      "text/html": [
       "<div>\n",
       "<style scoped>\n",
       "    .dataframe tbody tr th:only-of-type {\n",
       "        vertical-align: middle;\n",
       "    }\n",
       "\n",
       "    .dataframe tbody tr th {\n",
       "        vertical-align: top;\n",
       "    }\n",
       "\n",
       "    .dataframe thead th {\n",
       "        text-align: right;\n",
       "    }\n",
       "</style>\n",
       "<table border=\"1\" class=\"dataframe\">\n",
       "  <thead>\n",
       "    <tr style=\"text-align: right;\">\n",
       "      <th></th>\n",
       "      <th>Matrix Size</th>\n",
       "      <th>Naive with p multiplications</th>\n",
       "    </tr>\n",
       "  </thead>\n",
       "  <tbody>\n",
       "    <tr>\n",
       "      <th>0</th>\n",
       "      <td>128</td>\n",
       "      <td>44.802000</td>\n",
       "    </tr>\n",
       "    <tr>\n",
       "      <th>1</th>\n",
       "      <td>256</td>\n",
       "      <td>301.741000</td>\n",
       "    </tr>\n",
       "    <tr>\n",
       "      <th>2</th>\n",
       "      <td>512</td>\n",
       "      <td>2.012281</td>\n",
       "    </tr>\n",
       "    <tr>\n",
       "      <th>3</th>\n",
       "      <td>1024</td>\n",
       "      <td>15.885015</td>\n",
       "    </tr>\n",
       "    <tr>\n",
       "      <th>4</th>\n",
       "      <td>2048</td>\n",
       "      <td>145.726492</td>\n",
       "    </tr>\n",
       "    <tr>\n",
       "      <th>5</th>\n",
       "      <td>4096</td>\n",
       "      <td>1.384866</td>\n",
       "    </tr>\n",
       "    <tr>\n",
       "      <th>6</th>\n",
       "      <td>8192</td>\n",
       "      <td>12.082516</td>\n",
       "    </tr>\n",
       "    <tr>\n",
       "      <th>7</th>\n",
       "      <td>16384</td>\n",
       "      <td>89.051022</td>\n",
       "    </tr>\n",
       "  </tbody>\n",
       "</table>\n",
       "</div>"
      ],
      "text/plain": [
       "   Matrix Size  Naive with p multiplications\n",
       "0          128                     44.802000\n",
       "1          256                    301.741000\n",
       "2          512                      2.012281\n",
       "3         1024                     15.885015\n",
       "4         2048                    145.726492\n",
       "5         4096                      1.384866\n",
       "6         8192                     12.082516\n",
       "7        16384                     89.051022"
      ]
     },
     "execution_count": 45,
     "metadata": {},
     "output_type": "execute_result"
    }
   ],
   "source": [
    "df_p = pd.DataFrame(data_p, columns = [\"Matrix Size\", \"Naive with p multiplications\"])\n",
    "df_p"
   ]
  },
  {
   "cell_type": "code",
   "execution_count": 47,
   "id": "1d735999",
   "metadata": {},
   "outputs": [
    {
     "data": {
      "text/html": [
       "<div>\n",
       "<style scoped>\n",
       "    .dataframe tbody tr th:only-of-type {\n",
       "        vertical-align: middle;\n",
       "    }\n",
       "\n",
       "    .dataframe tbody tr th {\n",
       "        vertical-align: top;\n",
       "    }\n",
       "\n",
       "    .dataframe thead th {\n",
       "        text-align: right;\n",
       "    }\n",
       "</style>\n",
       "<table border=\"1\" class=\"dataframe\">\n",
       "  <thead>\n",
       "    <tr style=\"text-align: right;\">\n",
       "      <th></th>\n",
       "      <th>Matrix Size</th>\n",
       "      <th>Naive with 4p multiplications</th>\n",
       "    </tr>\n",
       "  </thead>\n",
       "  <tbody>\n",
       "    <tr>\n",
       "      <th>0</th>\n",
       "      <td>128</td>\n",
       "      <td>120.582000</td>\n",
       "    </tr>\n",
       "    <tr>\n",
       "      <th>1</th>\n",
       "      <td>256</td>\n",
       "      <td>775.713000</td>\n",
       "    </tr>\n",
       "    <tr>\n",
       "      <th>2</th>\n",
       "      <td>512</td>\n",
       "      <td>5.285892</td>\n",
       "    </tr>\n",
       "    <tr>\n",
       "      <th>3</th>\n",
       "      <td>1024</td>\n",
       "      <td>42.208420</td>\n",
       "    </tr>\n",
       "    <tr>\n",
       "      <th>4</th>\n",
       "      <td>2048</td>\n",
       "      <td>365.552017</td>\n",
       "    </tr>\n",
       "    <tr>\n",
       "      <th>5</th>\n",
       "      <td>4096</td>\n",
       "      <td>2.945687</td>\n",
       "    </tr>\n",
       "    <tr>\n",
       "      <th>6</th>\n",
       "      <td>8192</td>\n",
       "      <td>24.940062</td>\n",
       "    </tr>\n",
       "    <tr>\n",
       "      <th>7</th>\n",
       "      <td>16384</td>\n",
       "      <td>193.030232</td>\n",
       "    </tr>\n",
       "  </tbody>\n",
       "</table>\n",
       "</div>"
      ],
      "text/plain": [
       "   Matrix Size  Naive with 4p multiplications\n",
       "0          128                     120.582000\n",
       "1          256                     775.713000\n",
       "2          512                       5.285892\n",
       "3         1024                      42.208420\n",
       "4         2048                     365.552017\n",
       "5         4096                       2.945687\n",
       "6         8192                      24.940062\n",
       "7        16384                     193.030232"
      ]
     },
     "execution_count": 47,
     "metadata": {},
     "output_type": "execute_result"
    }
   ],
   "source": [
    "df_4p = pd.DataFrame(data_4p, columns = [\"Matrix Size\", \"Naive with 4p multiplications\"])\n",
    "df_4p"
   ]
  },
  {
   "cell_type": "code",
   "execution_count": 59,
   "id": "eaea5b08",
   "metadata": {},
   "outputs": [
    {
     "data": {
      "text/html": [
       "<div>\n",
       "<style scoped>\n",
       "    .dataframe tbody tr th:only-of-type {\n",
       "        vertical-align: middle;\n",
       "    }\n",
       "\n",
       "    .dataframe tbody tr th {\n",
       "        vertical-align: top;\n",
       "    }\n",
       "\n",
       "    .dataframe thead th {\n",
       "        text-align: right;\n",
       "    }\n",
       "</style>\n",
       "<table border=\"1\" class=\"dataframe\">\n",
       "  <thead>\n",
       "    <tr style=\"text-align: right;\">\n",
       "      <th></th>\n",
       "      <th>Matrix Size</th>\n",
       "      <th>Naive with p multiplications</th>\n",
       "      <th>Naive with 4p multiplications</th>\n",
       "    </tr>\n",
       "  </thead>\n",
       "  <tbody>\n",
       "    <tr>\n",
       "      <th>0</th>\n",
       "      <td>128</td>\n",
       "      <td>44.802000</td>\n",
       "      <td>120.582000</td>\n",
       "    </tr>\n",
       "    <tr>\n",
       "      <th>1</th>\n",
       "      <td>256</td>\n",
       "      <td>301.741000</td>\n",
       "      <td>775.713000</td>\n",
       "    </tr>\n",
       "    <tr>\n",
       "      <th>2</th>\n",
       "      <td>512</td>\n",
       "      <td>2.012281</td>\n",
       "      <td>5.285892</td>\n",
       "    </tr>\n",
       "    <tr>\n",
       "      <th>3</th>\n",
       "      <td>1024</td>\n",
       "      <td>15.885015</td>\n",
       "      <td>42.208420</td>\n",
       "    </tr>\n",
       "    <tr>\n",
       "      <th>4</th>\n",
       "      <td>2048</td>\n",
       "      <td>145.726492</td>\n",
       "      <td>365.552017</td>\n",
       "    </tr>\n",
       "    <tr>\n",
       "      <th>5</th>\n",
       "      <td>4096</td>\n",
       "      <td>1.384866</td>\n",
       "      <td>2.945687</td>\n",
       "    </tr>\n",
       "    <tr>\n",
       "      <th>6</th>\n",
       "      <td>8192</td>\n",
       "      <td>12.082516</td>\n",
       "      <td>24.940062</td>\n",
       "    </tr>\n",
       "    <tr>\n",
       "      <th>7</th>\n",
       "      <td>16384</td>\n",
       "      <td>89.051022</td>\n",
       "      <td>193.030232</td>\n",
       "    </tr>\n",
       "  </tbody>\n",
       "</table>\n",
       "</div>"
      ],
      "text/plain": [
       "   Matrix Size  Naive with p multiplications  Naive with 4p multiplications\n",
       "0          128                     44.802000                     120.582000\n",
       "1          256                    301.741000                     775.713000\n",
       "2          512                      2.012281                       5.285892\n",
       "3         1024                     15.885015                      42.208420\n",
       "4         2048                    145.726492                     365.552017\n",
       "5         4096                      1.384866                       2.945687\n",
       "6         8192                     12.082516                      24.940062\n",
       "7        16384                     89.051022                     193.030232"
      ]
     },
     "execution_count": 59,
     "metadata": {},
     "output_type": "execute_result"
    }
   ],
   "source": [
    "df_p_4p = pd.merge(df_p, df_4p,on=\"Matrix Size\")\n",
    "df_p_4p"
   ]
  },
  {
   "cell_type": "code",
   "execution_count": 60,
   "id": "97f97ef1",
   "metadata": {},
   "outputs": [
    {
     "name": "stderr",
     "output_type": "stream",
     "text": [
      "/tmp/ipykernel_238084/3922050936.py:1: FutureWarning: In future versions `DataFrame.to_latex` is expected to utilise the base implementation of `Styler.to_latex` for formatting and rendering. The arguments signature may therefore change. It is recommended instead to use `DataFrame.style.to_latex` which also contains additional functionality.\n",
      "  df_p_4p.to_latex()\n"
     ]
    },
    {
     "data": {
      "text/plain": [
       "'\\\\begin{tabular}{lrrr}\\n\\\\toprule\\n{} &  Matrix Size &  Naive with p multiplications &  Naive with 4p multiplications \\\\\\\\\\n\\\\midrule\\n0 &          128 &                     44.802000 &                     120.582000 \\\\\\\\\\n1 &          256 &                    301.741000 &                     775.713000 \\\\\\\\\\n2 &          512 &                      2.012281 &                       5.285892 \\\\\\\\\\n3 &         1024 &                     15.885015 &                      42.208420 \\\\\\\\\\n4 &         2048 &                    145.726492 &                     365.552017 \\\\\\\\\\n5 &         4096 &                      1.384866 &                       2.945687 \\\\\\\\\\n6 &         8192 &                     12.082516 &                      24.940062 \\\\\\\\\\n7 &        16384 &                     89.051022 &                     193.030232 \\\\\\\\\\n\\\\bottomrule\\n\\\\end{tabular}\\n'"
      ]
     },
     "execution_count": 60,
     "metadata": {},
     "output_type": "execute_result"
    }
   ],
   "source": [
    "df_p_4p.to_latex()"
   ]
  },
  {
   "cell_type": "code",
   "execution_count": 93,
   "id": "9e912658",
   "metadata": {},
   "outputs": [
    {
     "name": "stdout",
     "output_type": "stream",
     "text": [
      "61.795\n",
      "356.015\n",
      "2.21661\n",
      "17.424281999999998\n",
      "152.973466\n",
      "1.415346\n",
      "12.225783\n",
      "89.551343\n"
     ]
    },
    {
     "data": {
      "text/plain": [
       "[[128, 61.795],\n",
       " [256, 356.015],\n",
       " [512, 2.21661],\n",
       " [1024, 17.424281999999998],\n",
       " [2048, 152.973466],\n",
       " [4096, 1.415346],\n",
       " [8192, 12.225783],\n",
       " [16384, 89.551343]]"
      ]
     },
     "execution_count": 93,
     "metadata": {},
     "output_type": "execute_result"
    }
   ],
   "source": [
    "kernel_name = \"mat_mul_naive(int, int*, int*, int*)\"\n",
    "tile = \"p\"\n",
    "data_p = []\n",
    "for mat in mats_runtime:\n",
    "    df = pd.read_csv(f\"{ip_dir}/gpu_runtime_{mat}_{kernel}_{tile}\", skiprows=3)\n",
    "    duration = sum([float(each[0]) for each in df[columns].values[1:]])\n",
    "    print(duration)\n",
    "    data_p.append([mat, duration])\n",
    "data_p"
   ]
  },
  {
   "cell_type": "markdown",
   "id": "24212c48",
   "metadata": {},
   "source": [
    "## Tiles"
   ]
  },
  {
   "cell_type": "code",
   "execution_count": 68,
   "id": "f025973e",
   "metadata": {},
   "outputs": [
    {
     "data": {
      "text/plain": [
       "[[4096, 8, 0.430580348],\n",
       " [8192, 8, 4.398136],\n",
       " [16384, 8, 40.942623],\n",
       " [4096, 16, 0.24073782700000002],\n",
       " [8192, 16, 2.090084],\n",
       " [16384, 16, 15.931402],\n",
       " [4096, 32, 0.219180255],\n",
       " [8192, 32, 1.899215],\n",
       " [16384, 32, 14.175673]]"
      ]
     },
     "execution_count": 68,
     "metadata": {},
     "output_type": "execute_result"
    }
   ],
   "source": [
    "kernel_name = \"mat_mul_tiled(int, int, int*, int*, int*)\"\n",
    "kernel = \"tiled\"\n",
    "data_tile = []\n",
    "for tile in tiles:\n",
    "    for mat in mats_runtime:\n",
    "        if mat < 4096:\n",
    "            continue\n",
    "                \n",
    "        df = pd.read_csv(f\"{ip_dir}/gpu_runtime_{mat}_{kernel}_{tile}\", skiprows=3)\n",
    "        duration = float(df[df[\"Name\"] == kernel_name][columns].values[0][0])\n",
    "        if mat <= 4096:\n",
    "            duration /= 1000\n",
    "        data_tile.append([mat,tile, duration])\n",
    "data_tile"
   ]
  },
  {
   "cell_type": "code",
   "execution_count": 69,
   "id": "1dab5ed5",
   "metadata": {},
   "outputs": [
    {
     "data": {
      "text/html": [
       "<div>\n",
       "<style scoped>\n",
       "    .dataframe tbody tr th:only-of-type {\n",
       "        vertical-align: middle;\n",
       "    }\n",
       "\n",
       "    .dataframe tbody tr th {\n",
       "        vertical-align: top;\n",
       "    }\n",
       "\n",
       "    .dataframe thead th {\n",
       "        text-align: right;\n",
       "    }\n",
       "</style>\n",
       "<table border=\"1\" class=\"dataframe\">\n",
       "  <thead>\n",
       "    <tr style=\"text-align: right;\">\n",
       "      <th></th>\n",
       "      <th>Matrix Size</th>\n",
       "      <th>Tile Size</th>\n",
       "      <th>Execution Time</th>\n",
       "    </tr>\n",
       "  </thead>\n",
       "  <tbody>\n",
       "    <tr>\n",
       "      <th>0</th>\n",
       "      <td>4096</td>\n",
       "      <td>8</td>\n",
       "      <td>0.430580</td>\n",
       "    </tr>\n",
       "    <tr>\n",
       "      <th>1</th>\n",
       "      <td>8192</td>\n",
       "      <td>8</td>\n",
       "      <td>4.398136</td>\n",
       "    </tr>\n",
       "    <tr>\n",
       "      <th>2</th>\n",
       "      <td>16384</td>\n",
       "      <td>8</td>\n",
       "      <td>40.942623</td>\n",
       "    </tr>\n",
       "    <tr>\n",
       "      <th>3</th>\n",
       "      <td>4096</td>\n",
       "      <td>16</td>\n",
       "      <td>0.240738</td>\n",
       "    </tr>\n",
       "    <tr>\n",
       "      <th>4</th>\n",
       "      <td>8192</td>\n",
       "      <td>16</td>\n",
       "      <td>2.090084</td>\n",
       "    </tr>\n",
       "    <tr>\n",
       "      <th>5</th>\n",
       "      <td>16384</td>\n",
       "      <td>16</td>\n",
       "      <td>15.931402</td>\n",
       "    </tr>\n",
       "    <tr>\n",
       "      <th>6</th>\n",
       "      <td>4096</td>\n",
       "      <td>32</td>\n",
       "      <td>0.219180</td>\n",
       "    </tr>\n",
       "    <tr>\n",
       "      <th>7</th>\n",
       "      <td>8192</td>\n",
       "      <td>32</td>\n",
       "      <td>1.899215</td>\n",
       "    </tr>\n",
       "    <tr>\n",
       "      <th>8</th>\n",
       "      <td>16384</td>\n",
       "      <td>32</td>\n",
       "      <td>14.175673</td>\n",
       "    </tr>\n",
       "  </tbody>\n",
       "</table>\n",
       "</div>"
      ],
      "text/plain": [
       "   Matrix Size  Tile Size  Execution Time\n",
       "0         4096          8        0.430580\n",
       "1         8192          8        4.398136\n",
       "2        16384          8       40.942623\n",
       "3         4096         16        0.240738\n",
       "4         8192         16        2.090084\n",
       "5        16384         16       15.931402\n",
       "6         4096         32        0.219180\n",
       "7         8192         32        1.899215\n",
       "8        16384         32       14.175673"
      ]
     },
     "execution_count": 69,
     "metadata": {},
     "output_type": "execute_result"
    }
   ],
   "source": [
    "df_tiled = pd.DataFrame(data_tile, columns = [\"Matrix Size\", \"Tile Size\", \"Execution Time\"])\n",
    "df_tiled"
   ]
  },
  {
   "cell_type": "code",
   "execution_count": 80,
   "id": "247eaab2",
   "metadata": {},
   "outputs": [
    {
     "name": "stdout",
     "output_type": "stream",
     "text": [
      "\n",
      "\n",
      "\n",
      "\n",
      "\n",
      "\n",
      "\n",
      "\n",
      "\n"
     ]
    },
    {
     "data": {
      "image/png": "[encoded data removed]",
      "text/plain": [
       "<Figure size 400x300 with 1 Axes>"
      ]
     },
     "metadata": {},
     "output_type": "display_data"
    }
   ],
   "source": [
    "width = 0.3\n",
    "fig = plt.figure(figsize=(4,3))\n",
    "ax = plt.gca()\n",
    "for i,mat in enumerate([4096, 8192, 16384]):\n",
    "    for t,tile in enumerate(tiles): \n",
    "        print()\n",
    "        ax.bar(i+width*t, df_tiled[(df_tiled[\"Matrix Size\"] == mat) & (df_tiled[\"Tile Size\"] == tile)][\"Execution Time\"].values[0],width=width)"
   ]
  },
  {
   "cell_type": "code",
   "execution_count": 73,
   "id": "2c005f04",
   "metadata": {},
   "outputs": [
    {
     "data": {
      "text/plain": [
       "0.219180255"
      ]
     },
     "execution_count": 73,
     "metadata": {},
     "output_type": "execute_result"
    }
   ],
   "source": [
    "df_tiled[(df_tiled[\"Matrix Size\"] == mat) & (df_tiled[\"Tile Size\"] == tile)][\"Execution Time\"].values[0]"
   ]
  },
  {
   "cell_type": "code",
   "execution_count": 76,
   "id": "f468664c",
   "metadata": {},
   "outputs": [
    {
     "data": {
      "text/plain": [
       "(<Figure size 640x480 with 1 Axes>, <AxesSubplot:>)"
      ]
     },
     "execution_count": 76,
     "metadata": {},
     "output_type": "execute_result"
    }
   ],
   "source": [
    "ax"
   ]
  },
  {
   "cell_type": "markdown",
   "id": "79ff3180",
   "metadata": {},
   "source": [
    "## Cache statistics"
   ]
  },
  {
   "cell_type": "code",
   "execution_count": 132,
   "id": "64536174",
   "metadata": {},
   "outputs": [
    {
     "data": {
      "text/html": [
       "<div>\n",
       "<style scoped>\n",
       "    .dataframe tbody tr th:only-of-type {\n",
       "        vertical-align: middle;\n",
       "    }\n",
       "\n",
       "    .dataframe tbody tr th {\n",
       "        vertical-align: top;\n",
       "    }\n",
       "\n",
       "    .dataframe thead th {\n",
       "        text-align: right;\n",
       "    }\n",
       "</style>\n",
       "<table border=\"1\" class=\"dataframe\">\n",
       "  <thead>\n",
       "    <tr style=\"text-align: right;\">\n",
       "      <th></th>\n",
       "      <th>Device</th>\n",
       "      <th>Kernel</th>\n",
       "      <th>Invocations</th>\n",
       "      <th>Metric Name</th>\n",
       "      <th>Metric Description</th>\n",
       "      <th>Min</th>\n",
       "      <th>Max</th>\n",
       "      <th>Avg</th>\n",
       "    </tr>\n",
       "  </thead>\n",
       "  <tbody>\n",
       "    <tr>\n",
       "      <th>0</th>\n",
       "      <td>NVIDIA GeForce GTX 1050 (0)</td>\n",
       "      <td>mat_mul_naive(int, int*, int*, int*)</td>\n",
       "      <td>1</td>\n",
       "      <td>gld_transactions</td>\n",
       "      <td>Global\\nLoads</td>\n",
       "      <td>34363311618</td>\n",
       "      <td>34363311618</td>\n",
       "      <td>3.436331e+10</td>\n",
       "    </tr>\n",
       "    <tr>\n",
       "      <th>1</th>\n",
       "      <td>NVIDIA GeForce GTX 1050 (0)</td>\n",
       "      <td>mat_mul_naive(int, int*, int*, int*)</td>\n",
       "      <td>1</td>\n",
       "      <td>l2_read_transactions</td>\n",
       "      <td>L2\\nReads</td>\n",
       "      <td>9665758390</td>\n",
       "      <td>9665758390</td>\n",
       "      <td>9.665758e+09</td>\n",
       "    </tr>\n",
       "    <tr>\n",
       "      <th>2</th>\n",
       "      <td>NVIDIA GeForce GTX 1050 (0)</td>\n",
       "      <td>mat_mul_naive(int, int*, int*, int*)</td>\n",
       "      <td>1</td>\n",
       "      <td>dram_read_transactions</td>\n",
       "      <td>Device\\nMemory\\nReads</td>\n",
       "      <td>4281298558</td>\n",
       "      <td>4281298558</td>\n",
       "      <td>4.281299e+09</td>\n",
       "    </tr>\n",
       "  </tbody>\n",
       "</table>\n",
       "</div>"
      ],
      "text/plain": [
       "                        Device                                Kernel  \\\n",
       "0  NVIDIA GeForce GTX 1050 (0)  mat_mul_naive(int, int*, int*, int*)   \n",
       "1  NVIDIA GeForce GTX 1050 (0)  mat_mul_naive(int, int*, int*, int*)   \n",
       "2  NVIDIA GeForce GTX 1050 (0)  mat_mul_naive(int, int*, int*, int*)   \n",
       "\n",
       "   Invocations             Metric Name     Metric Description          Min  \\\n",
       "0            1        gld_transactions          Global\\nLoads  34363311618   \n",
       "1            1    l2_read_transactions              L2\\nReads   9665758390   \n",
       "2            1  dram_read_transactions  Device\\nMemory\\nReads   4281298558   \n",
       "\n",
       "           Max           Avg  \n",
       "0  34363311618  3.436331e+10  \n",
       "1   9665758390  9.665758e+09  \n",
       "2   4281298558  4.281299e+09  "
      ]
     },
     "execution_count": 132,
     "metadata": {},
     "output_type": "execute_result"
    }
   ],
   "source": [
    "df = pd.read_csv(f\"{ip_dir}/cache_trace_4096_naive_p\", skiprows=5)\n",
    "df = df[:-1]\n",
    "df[\"Metric Description\"] = df[\"Metric Description\"].apply(lambda x: x.replace(\" \", \"\\n\").replace(\"Transactions\",\"\")[:-1]+\"s\")\n",
    "df[\"Avg\"] = df[\"Avg\"].apply(lambda x: float(x))\n",
    "df"
   ]
  },
  {
   "cell_type": "code",
   "execution_count": 133,
   "id": "2ec69d0d",
   "metadata": {},
   "outputs": [
    {
     "data": {
      "text/plain": [
       "<BarContainer object of 3 artists>"
      ]
     },
     "execution_count": 133,
     "metadata": {},
     "output_type": "execute_result"
    },
    {
     "data": {
      "image/png": "[encoded data removed]",
      "text/plain": [
       "<Figure size 640x480 with 1 Axes>"
      ]
     },
     "metadata": {},
     "output_type": "display_data"
    }
   ],
   "source": [
    "fig = plt.figure()\n",
    "ax = plt.gca()\n",
    "ax.bar(df[\"Metric Description\"], df[\"Avg\"])"
   ]
  },
  {
   "cell_type": "code",
   "execution_count": 134,
   "id": "dd3a832b",
   "metadata": {},
   "outputs": [
    {
     "data": {
      "text/html": [
       "<div>\n",
       "<style scoped>\n",
       "    .dataframe tbody tr th:only-of-type {\n",
       "        vertical-align: middle;\n",
       "    }\n",
       "\n",
       "    .dataframe tbody tr th {\n",
       "        vertical-align: top;\n",
       "    }\n",
       "\n",
       "    .dataframe thead th {\n",
       "        text-align: right;\n",
       "    }\n",
       "</style>\n",
       "<table border=\"1\" class=\"dataframe\">\n",
       "  <thead>\n",
       "    <tr style=\"text-align: right;\">\n",
       "      <th></th>\n",
       "      <th>Device</th>\n",
       "      <th>Kernel</th>\n",
       "      <th>Invocations</th>\n",
       "      <th>Metric Name</th>\n",
       "      <th>Metric Description</th>\n",
       "      <th>Min</th>\n",
       "      <th>Max</th>\n",
       "      <th>Avg</th>\n",
       "    </tr>\n",
       "  </thead>\n",
       "  <tbody>\n",
       "    <tr>\n",
       "      <th>0</th>\n",
       "      <td>NVIDIA GeForce GTX 1050 (0)</td>\n",
       "      <td>mat_mul_tiled(int, int, int*, int*, int*)</td>\n",
       "      <td>1</td>\n",
       "      <td>gld_transactions</td>\n",
       "      <td>Global\\nLoads</td>\n",
       "      <td>1074100946</td>\n",
       "      <td>1074100946</td>\n",
       "      <td>1.074101e+09</td>\n",
       "    </tr>\n",
       "    <tr>\n",
       "      <th>1</th>\n",
       "      <td>NVIDIA GeForce GTX 1050 (0)</td>\n",
       "      <td>mat_mul_tiled(int, int, int*, int*, int*)</td>\n",
       "      <td>1</td>\n",
       "      <td>l2_read_transactions</td>\n",
       "      <td>L2\\nReads</td>\n",
       "      <td>403319344</td>\n",
       "      <td>403319344</td>\n",
       "      <td>4.033193e+08</td>\n",
       "    </tr>\n",
       "    <tr>\n",
       "      <th>2</th>\n",
       "      <td>NVIDIA GeForce GTX 1050 (0)</td>\n",
       "      <td>mat_mul_tiled(int, int, int*, int*, int*)</td>\n",
       "      <td>1</td>\n",
       "      <td>dram_read_transactions</td>\n",
       "      <td>Device\\nMemory\\nReads</td>\n",
       "      <td>206687495</td>\n",
       "      <td>206687495</td>\n",
       "      <td>2.066875e+08</td>\n",
       "    </tr>\n",
       "  </tbody>\n",
       "</table>\n",
       "</div>"
      ],
      "text/plain": [
       "                        Device                                     Kernel  \\\n",
       "0  NVIDIA GeForce GTX 1050 (0)  mat_mul_tiled(int, int, int*, int*, int*)   \n",
       "1  NVIDIA GeForce GTX 1050 (0)  mat_mul_tiled(int, int, int*, int*, int*)   \n",
       "2  NVIDIA GeForce GTX 1050 (0)  mat_mul_tiled(int, int, int*, int*, int*)   \n",
       "\n",
       "   Invocations             Metric Name     Metric Description         Min  \\\n",
       "0            1        gld_transactions          Global\\nLoads  1074100946   \n",
       "1            1    l2_read_transactions              L2\\nReads   403319344   \n",
       "2            1  dram_read_transactions  Device\\nMemory\\nReads   206687495   \n",
       "\n",
       "          Max           Avg  \n",
       "0  1074100946  1.074101e+09  \n",
       "1   403319344  4.033193e+08  \n",
       "2   206687495  2.066875e+08  "
      ]
     },
     "execution_count": 134,
     "metadata": {},
     "output_type": "execute_result"
    }
   ],
   "source": [
    "df2 = pd.read_csv(f\"{ip_dir}/cache_trace_4096_tiled_32\", skiprows=5)\n",
    "df2 = df2[:-1]\n",
    "df2[\"Metric Description\"] = df2[\"Metric Description\"].apply(lambda x: x.replace(\" \", \"\\n\").replace(\"Transactions\",\"\")[:-1]+\"s\")\n",
    "df2[\"Avg\"] = df2[\"Avg\"].apply(lambda x: float(x))\n",
    "df2"
   ]
  },
  {
   "cell_type": "code",
   "execution_count": 135,
   "id": "1bcb7ef1",
   "metadata": {},
   "outputs": [
    {
     "data": {
      "text/plain": [
       "<BarContainer object of 3 artists>"
      ]
     },
     "execution_count": 135,
     "metadata": {},
     "output_type": "execute_result"
    },
    {
     "data": {
      "image/png": "[encoded data removed]",
      "text/plain": [
       "<Figure size 640x480 with 1 Axes>"
      ]
     },
     "metadata": {},
     "output_type": "display_data"
    }
   ],
   "source": [
    "fig = plt.figure()\n",
    "ax = plt.gca()\n",
    "ax.bar(df2[\"Metric Description\"], df2[\"Avg\"])"
   ]
  }
 ],
 "metadata": {
  "kernelspec": {
   "display_name": "Python [conda env:root] *",
   "language": "python",
   "name": "conda-root-py"
  },
  "language_info": {
   "codemirror_mode": {
    "name": "ipython",
    "version": 3
   },
   "file_extension": ".py",
   "mimetype": "text/x-python",
   "name": "python",
   "nbconvert_exporter": "python",
   "pygments_lexer": "ipython3",
   "version": "3.8.13"
  }
 },
 "nbformat": 4,
 "nbformat_minor": 5
}
